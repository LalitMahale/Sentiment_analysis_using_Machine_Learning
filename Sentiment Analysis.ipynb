{
 "cells": [
  {
   "cell_type": "code",
   "execution_count": null,
   "id": "0022e24f",
   "metadata": {},
   "outputs": [],
   "source": []
  },
  {
   "cell_type": "code",
   "execution_count": 1,
   "id": "e717badb",
   "metadata": {},
   "outputs": [],
   "source": [
    "import pandas as pd\n",
    "import numpy as np\n",
    "import spacy\n",
    "from sklearn.feature_extraction.text import TfidfVectorizer\n",
    "from sklearn.svm import LinearSVC\n",
    "from sklearn.pipeline import Pipeline\n",
    "from sklearn.model_selection import train_test_split\n",
    "from sklearn.metrics import accuracy_score, classification_report, confusion_matrix\n",
    "from spacy.lang.en.stop_words import STOP_WORDS\n",
    "from string import punctuation\n",
    "from spacy.displacy import render"
   ]
  },
  {
   "cell_type": "code",
   "execution_count": 2,
   "id": "4733fef7",
   "metadata": {},
   "outputs": [
    {
     "name": "stdout",
     "output_type": "stream",
     "text": [
      "['and', 'next', 'your', 'below', 'just', 'wherever', 'otherwise', '‘ll', 'always', 'should']\n"
     ]
    }
   ],
   "source": [
    "stop_word = list(STOP_WORDS)\n",
    "print(stop_word[:10])"
   ]
  },
  {
   "cell_type": "code",
   "execution_count": 3,
   "id": "99ad330a",
   "metadata": {},
   "outputs": [],
   "source": [
    "# load English pre train small model\n",
    "nlp = spacy.load(\"en_core_web_sm\")"
   ]
  },
  {
   "cell_type": "code",
   "execution_count": 4,
   "id": "c086de55",
   "metadata": {},
   "outputs": [],
   "source": [
    "df1 = pd.read_csv(\"sentiment labelled sentences/amazon_cells_labelled.txt\",sep=\"\\t\", header=None)\n",
    "df2 = pd.read_csv(\"sentiment labelled sentences/imdb_labelled.txt\",sep=\"\\t\",header=None)\n",
    "df3 = pd.read_csv(\"sentiment labelled sentences/yelp_labelled.txt\", sep= \"\\t\",header= None)"
   ]
  },
  {
   "cell_type": "code",
   "execution_count": 5,
   "id": "bbea0f9d",
   "metadata": {},
   "outputs": [
    {
     "data": {
      "text/html": [
       "<div>\n",
       "<style scoped>\n",
       "    .dataframe tbody tr th:only-of-type {\n",
       "        vertical-align: middle;\n",
       "    }\n",
       "\n",
       "    .dataframe tbody tr th {\n",
       "        vertical-align: top;\n",
       "    }\n",
       "\n",
       "    .dataframe thead th {\n",
       "        text-align: right;\n",
       "    }\n",
       "</style>\n",
       "<table border=\"1\" class=\"dataframe\">\n",
       "  <thead>\n",
       "    <tr style=\"text-align: right;\">\n",
       "      <th></th>\n",
       "      <th>0</th>\n",
       "      <th>1</th>\n",
       "    </tr>\n",
       "  </thead>\n",
       "  <tbody>\n",
       "    <tr>\n",
       "      <th>0</th>\n",
       "      <td>So there is no way for me to plug it in here i...</td>\n",
       "      <td>0</td>\n",
       "    </tr>\n",
       "    <tr>\n",
       "      <th>1</th>\n",
       "      <td>Good case, Excellent value.</td>\n",
       "      <td>1</td>\n",
       "    </tr>\n",
       "    <tr>\n",
       "      <th>2</th>\n",
       "      <td>Great for the jawbone.</td>\n",
       "      <td>1</td>\n",
       "    </tr>\n",
       "    <tr>\n",
       "      <th>3</th>\n",
       "      <td>Tied to charger for conversations lasting more...</td>\n",
       "      <td>0</td>\n",
       "    </tr>\n",
       "    <tr>\n",
       "      <th>4</th>\n",
       "      <td>The mic is great.</td>\n",
       "      <td>1</td>\n",
       "    </tr>\n",
       "  </tbody>\n",
       "</table>\n",
       "</div>"
      ],
      "text/plain": [
       "                                                   0  1\n",
       "0  So there is no way for me to plug it in here i...  0\n",
       "1                        Good case, Excellent value.  1\n",
       "2                             Great for the jawbone.  1\n",
       "3  Tied to charger for conversations lasting more...  0\n",
       "4                                  The mic is great.  1"
      ]
     },
     "execution_count": 5,
     "metadata": {},
     "output_type": "execute_result"
    }
   ],
   "source": [
    "df1.head()"
   ]
  },
  {
   "cell_type": "code",
   "execution_count": 6,
   "id": "888a072f",
   "metadata": {},
   "outputs": [
    {
     "data": {
      "text/html": [
       "<div>\n",
       "<style scoped>\n",
       "    .dataframe tbody tr th:only-of-type {\n",
       "        vertical-align: middle;\n",
       "    }\n",
       "\n",
       "    .dataframe tbody tr th {\n",
       "        vertical-align: top;\n",
       "    }\n",
       "\n",
       "    .dataframe thead th {\n",
       "        text-align: right;\n",
       "    }\n",
       "</style>\n",
       "<table border=\"1\" class=\"dataframe\">\n",
       "  <thead>\n",
       "    <tr style=\"text-align: right;\">\n",
       "      <th></th>\n",
       "      <th>0</th>\n",
       "      <th>1</th>\n",
       "    </tr>\n",
       "  </thead>\n",
       "  <tbody>\n",
       "    <tr>\n",
       "      <th>0</th>\n",
       "      <td>A very, very, very slow-moving, aimless movie ...</td>\n",
       "      <td>0</td>\n",
       "    </tr>\n",
       "    <tr>\n",
       "      <th>1</th>\n",
       "      <td>Not sure who was more lost - the flat characte...</td>\n",
       "      <td>0</td>\n",
       "    </tr>\n",
       "    <tr>\n",
       "      <th>2</th>\n",
       "      <td>Attempting artiness with black &amp; white and cle...</td>\n",
       "      <td>0</td>\n",
       "    </tr>\n",
       "    <tr>\n",
       "      <th>3</th>\n",
       "      <td>Very little music or anything to speak of.</td>\n",
       "      <td>0</td>\n",
       "    </tr>\n",
       "    <tr>\n",
       "      <th>4</th>\n",
       "      <td>The best scene in the movie was when Gerardo i...</td>\n",
       "      <td>1</td>\n",
       "    </tr>\n",
       "  </tbody>\n",
       "</table>\n",
       "</div>"
      ],
      "text/plain": [
       "                                                   0  1\n",
       "0  A very, very, very slow-moving, aimless movie ...  0\n",
       "1  Not sure who was more lost - the flat characte...  0\n",
       "2  Attempting artiness with black & white and cle...  0\n",
       "3       Very little music or anything to speak of.    0\n",
       "4  The best scene in the movie was when Gerardo i...  1"
      ]
     },
     "execution_count": 6,
     "metadata": {},
     "output_type": "execute_result"
    }
   ],
   "source": [
    "df2.head()"
   ]
  },
  {
   "cell_type": "code",
   "execution_count": 7,
   "id": "ba902123",
   "metadata": {},
   "outputs": [
    {
     "data": {
      "text/html": [
       "<div>\n",
       "<style scoped>\n",
       "    .dataframe tbody tr th:only-of-type {\n",
       "        vertical-align: middle;\n",
       "    }\n",
       "\n",
       "    .dataframe tbody tr th {\n",
       "        vertical-align: top;\n",
       "    }\n",
       "\n",
       "    .dataframe thead th {\n",
       "        text-align: right;\n",
       "    }\n",
       "</style>\n",
       "<table border=\"1\" class=\"dataframe\">\n",
       "  <thead>\n",
       "    <tr style=\"text-align: right;\">\n",
       "      <th></th>\n",
       "      <th>0</th>\n",
       "      <th>1</th>\n",
       "    </tr>\n",
       "  </thead>\n",
       "  <tbody>\n",
       "    <tr>\n",
       "      <th>0</th>\n",
       "      <td>Wow... Loved this place.</td>\n",
       "      <td>1</td>\n",
       "    </tr>\n",
       "    <tr>\n",
       "      <th>1</th>\n",
       "      <td>Crust is not good.</td>\n",
       "      <td>0</td>\n",
       "    </tr>\n",
       "    <tr>\n",
       "      <th>2</th>\n",
       "      <td>Not tasty and the texture was just nasty.</td>\n",
       "      <td>0</td>\n",
       "    </tr>\n",
       "    <tr>\n",
       "      <th>3</th>\n",
       "      <td>Stopped by during the late May bank holiday of...</td>\n",
       "      <td>1</td>\n",
       "    </tr>\n",
       "    <tr>\n",
       "      <th>4</th>\n",
       "      <td>The selection on the menu was great and so wer...</td>\n",
       "      <td>1</td>\n",
       "    </tr>\n",
       "  </tbody>\n",
       "</table>\n",
       "</div>"
      ],
      "text/plain": [
       "                                                   0  1\n",
       "0                           Wow... Loved this place.  1\n",
       "1                                 Crust is not good.  0\n",
       "2          Not tasty and the texture was just nasty.  0\n",
       "3  Stopped by during the late May bank holiday of...  1\n",
       "4  The selection on the menu was great and so wer...  1"
      ]
     },
     "execution_count": 7,
     "metadata": {},
     "output_type": "execute_result"
    }
   ],
   "source": [
    "df3.head()"
   ]
  },
  {
   "cell_type": "code",
   "execution_count": 8,
   "id": "fcb13b1a",
   "metadata": {},
   "outputs": [
    {
     "name": "stdout",
     "output_type": "stream",
     "text": [
      "(1000, 2) (748, 2) (1000, 2)\n"
     ]
    }
   ],
   "source": [
    "# Shape of all three columns\n",
    "\n",
    "print(df1.shape,df2.shape, df3.shape)"
   ]
  },
  {
   "cell_type": "code",
   "execution_count": 9,
   "id": "bea35a4d",
   "metadata": {},
   "outputs": [],
   "source": [
    "df = pd.concat([df1,df2,df3],axis=0)"
   ]
  },
  {
   "cell_type": "code",
   "execution_count": 10,
   "id": "ebf06538",
   "metadata": {},
   "outputs": [
    {
     "data": {
      "text/html": [
       "<div>\n",
       "<style scoped>\n",
       "    .dataframe tbody tr th:only-of-type {\n",
       "        vertical-align: middle;\n",
       "    }\n",
       "\n",
       "    .dataframe tbody tr th {\n",
       "        vertical-align: top;\n",
       "    }\n",
       "\n",
       "    .dataframe thead th {\n",
       "        text-align: right;\n",
       "    }\n",
       "</style>\n",
       "<table border=\"1\" class=\"dataframe\">\n",
       "  <thead>\n",
       "    <tr style=\"text-align: right;\">\n",
       "      <th></th>\n",
       "      <th>0</th>\n",
       "      <th>1</th>\n",
       "    </tr>\n",
       "  </thead>\n",
       "  <tbody>\n",
       "    <tr>\n",
       "      <th>0</th>\n",
       "      <td>So there is no way for me to plug it in here i...</td>\n",
       "      <td>0</td>\n",
       "    </tr>\n",
       "    <tr>\n",
       "      <th>1</th>\n",
       "      <td>Good case, Excellent value.</td>\n",
       "      <td>1</td>\n",
       "    </tr>\n",
       "    <tr>\n",
       "      <th>2</th>\n",
       "      <td>Great for the jawbone.</td>\n",
       "      <td>1</td>\n",
       "    </tr>\n",
       "    <tr>\n",
       "      <th>3</th>\n",
       "      <td>Tied to charger for conversations lasting more...</td>\n",
       "      <td>0</td>\n",
       "    </tr>\n",
       "    <tr>\n",
       "      <th>4</th>\n",
       "      <td>The mic is great.</td>\n",
       "      <td>1</td>\n",
       "    </tr>\n",
       "  </tbody>\n",
       "</table>\n",
       "</div>"
      ],
      "text/plain": [
       "                                                   0  1\n",
       "0  So there is no way for me to plug it in here i...  0\n",
       "1                        Good case, Excellent value.  1\n",
       "2                             Great for the jawbone.  1\n",
       "3  Tied to charger for conversations lasting more...  0\n",
       "4                                  The mic is great.  1"
      ]
     },
     "execution_count": 10,
     "metadata": {},
     "output_type": "execute_result"
    }
   ],
   "source": [
    "df.head()"
   ]
  },
  {
   "cell_type": "markdown",
   "id": "1033dd1e",
   "metadata": {},
   "source": [
    "# create final dataset to merge all deta\n",
    "df = df1.append(df2)\n",
    "df = df.append(df3)\n",
    "\n",
    "print(\"Final shape of dataset\",df.shape)"
   ]
  },
  {
   "cell_type": "code",
   "execution_count": 11,
   "id": "3db2c81d",
   "metadata": {},
   "outputs": [],
   "source": [
    "# Rename the column name\n",
    "df.rename({0:\"Review\",1:\"Sentiment\"},axis=1,inplace=True)"
   ]
  },
  {
   "cell_type": "code",
   "execution_count": 12,
   "id": "1ac7c50e",
   "metadata": {},
   "outputs": [
    {
     "data": {
      "text/plain": [
       "Review       0\n",
       "Sentiment    0\n",
       "dtype: int64"
      ]
     },
     "execution_count": 12,
     "metadata": {},
     "output_type": "execute_result"
    }
   ],
   "source": [
    "# Check Null Values\n",
    "\n",
    "df.isnull().sum()"
   ]
  },
  {
   "cell_type": "code",
   "execution_count": 13,
   "id": "ed73b234",
   "metadata": {},
   "outputs": [
    {
     "data": {
      "text/plain": [
       "1    1386\n",
       "0    1362\n",
       "Name: Sentiment, dtype: int64"
      ]
     },
     "execution_count": 13,
     "metadata": {},
     "output_type": "execute_result"
    }
   ],
   "source": [
    "# Now see distribution of classes\n",
    "\n",
    "df[\"Sentiment\"].value_counts()"
   ]
  },
  {
   "cell_type": "code",
   "execution_count": 14,
   "id": "a1381610",
   "metadata": {},
   "outputs": [],
   "source": [
    "# Now Clean the data\n",
    "\n",
    "def clean_data(text):\n",
    "    doc = nlp(text)\n",
    "    list_tokens = []\n",
    "    clean_tokens = []\n",
    "    \n",
    "    for token in doc:\n",
    "        if token.lemma_ != \"-PRON-\":\n",
    "            tem_token = token.lemma_.lower().strip()\n",
    "        else:\n",
    "            tem_token = token.lower()\n",
    "        list_tokens.append(tem_token)\n",
    "        \n",
    "    for token in list_tokens:\n",
    "        if token not in stop_word and token not in punctuation:\n",
    "            clean_tokens.append(token)\n",
    "    \n",
    "    return clean_tokens"
   ]
  },
  {
   "cell_type": "code",
   "execution_count": 15,
   "id": "44963af9",
   "metadata": {},
   "outputs": [
    {
     "data": {
      "text/plain": [
       "['hello', 'like', 'video']"
      ]
     },
     "execution_count": 15,
     "metadata": {},
     "output_type": "execute_result"
    }
   ],
   "source": [
    "clean_data(\"    Hello how are you. Like this video\")"
   ]
  },
  {
   "cell_type": "code",
   "execution_count": 16,
   "id": "472d26f3",
   "metadata": {},
   "outputs": [],
   "source": [
    "df[\"clean_Reviews\"] = df[\"Review\"].apply(clean_data)"
   ]
  },
  {
   "cell_type": "code",
   "execution_count": 17,
   "id": "0047f058",
   "metadata": {},
   "outputs": [],
   "source": [
    "# now we are doing vectorization\n",
    "\n",
    "tfidf = TfidfVectorizer(tokenizer= clean_data)"
   ]
  },
  {
   "cell_type": "code",
   "execution_count": 18,
   "id": "f04b2079",
   "metadata": {},
   "outputs": [],
   "source": [
    "# machine learning model\n",
    "l_svm = LinearSVC()"
   ]
  },
  {
   "cell_type": "code",
   "execution_count": 19,
   "id": "b88a24f6",
   "metadata": {},
   "outputs": [],
   "source": [
    "# Split data into x and y \n",
    "x = df[\"Review\"]\n",
    "y = df[\"Sentiment\"]"
   ]
  },
  {
   "cell_type": "code",
   "execution_count": 20,
   "id": "3020e087",
   "metadata": {},
   "outputs": [],
   "source": [
    "# Now split data into train test split \n",
    "\n",
    "X_train,X_test, y_train,y_test = train_test_split(x,y, test_size=0.2,random_state=2023)"
   ]
  },
  {
   "cell_type": "code",
   "execution_count": 21,
   "id": "8973bea4",
   "metadata": {},
   "outputs": [
    {
     "data": {
      "text/plain": [
       "((2198,), (550,), (2198,), (550,))"
      ]
     },
     "execution_count": 21,
     "metadata": {},
     "output_type": "execute_result"
    }
   ],
   "source": [
    "X_train.shape,X_test.shape, y_train.shape,y_test.shape"
   ]
  },
  {
   "cell_type": "code",
   "execution_count": 22,
   "id": "4e40c754",
   "metadata": {},
   "outputs": [],
   "source": [
    "pipe_line = Pipeline([(\"tfidf\",tfidf),(\"classifier\",l_svm)])"
   ]
  },
  {
   "cell_type": "code",
   "execution_count": 23,
   "id": "53198b7b",
   "metadata": {},
   "outputs": [
    {
     "data": {
      "text/plain": [
       "Pipeline(steps=[('tfidf',\n",
       "                 TfidfVectorizer(tokenizer=<function clean_data at 0x00000185098E5310>)),\n",
       "                ('classifier', LinearSVC())])"
      ]
     },
     "execution_count": 23,
     "metadata": {},
     "output_type": "execute_result"
    }
   ],
   "source": [
    "pipe_line.fit(X_train,y_train)"
   ]
  },
  {
   "cell_type": "code",
   "execution_count": 24,
   "id": "ea4222b3",
   "metadata": {},
   "outputs": [
    {
     "data": {
      "text/plain": [
       "Pipeline(steps=[('tfidf', TfidfVectorizer(token_pattern='(?u)\\\\u\\\\w\\\\w+\\\\b')),\n",
       "                ('clf', LinearSVC())])"
      ]
     },
     "execution_count": 24,
     "metadata": {},
     "output_type": "execute_result"
    }
   ],
   "source": [
    "Pipeline(memory= None,\n",
    "        steps = [(\"tfidf\",TfidfVectorizer(analyzer=\"word\", binary=False, decode_error=\"strict\",\n",
    "                                          encoding = \"utf-8\", input = \"content\",\n",
    "                                         lowercase = True, max_df = 1.0, max_features = None, min_df = 1, ngram_range = (1,1),\n",
    "                                         norm = \"l2\", preprocessor = None, smooth_idf = True, stop_words = None, strip_accents = None,\n",
    "                                         sublinear_tf = False, token_pattern = \"(?u)\\\\u\\\\w\\\\w+\\\\b\", \n",
    "                                         use_idf = True, vocabulary = None)),\n",
    "                (\"clf\",LinearSVC(C = 1.0, class_weight=None, dual= True, fit_intercept=True, intercept_scaling=1,\n",
    "                                loss = \"squared_hinge\", max_iter=1000, multi_class=\"ovr\", penalty = 'l2',random_state=None,\n",
    "                                tol=0.0001, verbose=0))],verbose=False)"
   ]
  },
  {
   "cell_type": "code",
   "execution_count": 25,
   "id": "fdd180dd",
   "metadata": {},
   "outputs": [],
   "source": [
    "y_pred = pipe_line.predict(X_test)"
   ]
  },
  {
   "cell_type": "code",
   "execution_count": 26,
   "id": "4cc6c69a",
   "metadata": {},
   "outputs": [
    {
     "name": "stdout",
     "output_type": "stream",
     "text": [
      "0.8\n"
     ]
    }
   ],
   "source": [
    "print(accuracy_score(y_test,y_pred))"
   ]
  },
  {
   "cell_type": "code",
   "execution_count": 27,
   "id": "275a4af9",
   "metadata": {},
   "outputs": [
    {
     "name": "stdout",
     "output_type": "stream",
     "text": [
      "              precision    recall  f1-score   support\n",
      "\n",
      "           0       0.78      0.81      0.79       262\n",
      "           1       0.82      0.79      0.80       288\n",
      "\n",
      "    accuracy                           0.80       550\n",
      "   macro avg       0.80      0.80      0.80       550\n",
      "weighted avg       0.80      0.80      0.80       550\n",
      "\n"
     ]
    }
   ],
   "source": [
    "print(classification_report(y_pred,y_test))"
   ]
  },
  {
   "cell_type": "code",
   "execution_count": 28,
   "id": "36962135",
   "metadata": {},
   "outputs": [
    {
     "data": {
      "text/plain": [
       "array([1], dtype=int64)"
      ]
     },
     "execution_count": 28,
     "metadata": {},
     "output_type": "execute_result"
    }
   ],
   "source": [
    "pipe_line.predict([\"wow, This is amazing not lesson\"])"
   ]
  },
  {
   "cell_type": "code",
   "execution_count": 29,
   "id": "8e2fc839",
   "metadata": {},
   "outputs": [
    {
     "name": "stdout",
     "output_type": "stream",
     "text": [
      "enter sentenceg\n",
      "[0]\n"
     ]
    }
   ],
   "source": [
    "inputs = input(\"enter sentence\")\n",
    "print(pipe_line.predict([inputs]))"
   ]
  },
  {
   "cell_type": "code",
   "execution_count": 30,
   "id": "73bcc80c",
   "metadata": {},
   "outputs": [],
   "source": [
    "# save model "
   ]
  },
  {
   "cell_type": "code",
   "execution_count": 31,
   "id": "77c8d312",
   "metadata": {},
   "outputs": [],
   "source": [
    "import pickle"
   ]
  },
  {
   "cell_type": "code",
   "execution_count": 32,
   "id": "885f9c3e",
   "metadata": {},
   "outputs": [],
   "source": [
    "model = open(\"final_model.sav\",\"wb\")"
   ]
  },
  {
   "cell_type": "code",
   "execution_count": 33,
   "id": "0be7ae7a",
   "metadata": {},
   "outputs": [],
   "source": [
    "pickle.dump(pipe_line,model)"
   ]
  },
  {
   "cell_type": "code",
   "execution_count": 34,
   "id": "f672df4a",
   "metadata": {},
   "outputs": [
    {
     "ename": "EOFError",
     "evalue": "Ran out of input",
     "output_type": "error",
     "traceback": [
      "\u001b[1;31m---------------------------------------------------------------------------\u001b[0m",
      "\u001b[1;31mEOFError\u001b[0m                                  Traceback (most recent call last)",
      "\u001b[1;32m~\\AppData\\Local\\Temp\\ipykernel_21756\\4253936539.py\u001b[0m in \u001b[0;36m<cell line: 1>\u001b[1;34m()\u001b[0m\n\u001b[1;32m----> 1\u001b[1;33m \u001b[0mmodel\u001b[0m \u001b[1;33m=\u001b[0m \u001b[0mpickle\u001b[0m\u001b[1;33m.\u001b[0m\u001b[0mload\u001b[0m\u001b[1;33m(\u001b[0m\u001b[0mopen\u001b[0m\u001b[1;33m(\u001b[0m\u001b[1;34m\"final_model.sav\"\u001b[0m\u001b[1;33m,\u001b[0m\u001b[1;34m\"rb\"\u001b[0m\u001b[1;33m)\u001b[0m\u001b[1;33m)\u001b[0m\u001b[1;33m\u001b[0m\u001b[1;33m\u001b[0m\u001b[0m\n\u001b[0m",
      "\u001b[1;31mEOFError\u001b[0m: Ran out of input"
     ]
    }
   ],
   "source": [
    "model = pickle.load(open(\"final_model.sav\",\"rb\"))"
   ]
  },
  {
   "cell_type": "code",
   "execution_count": null,
   "id": "0d5793cd",
   "metadata": {},
   "outputs": [],
   "source": [
    "model.predict([\"my name is khan\"])"
   ]
  },
  {
   "cell_type": "code",
   "execution_count": null,
   "id": "1e317443",
   "metadata": {},
   "outputs": [],
   "source": []
  }
 ],
 "metadata": {
  "kernelspec": {
   "display_name": "Python 3 (ipykernel)",
   "language": "python",
   "name": "python3"
  },
  "language_info": {
   "codemirror_mode": {
    "name": "ipython",
    "version": 3
   },
   "file_extension": ".py",
   "mimetype": "text/x-python",
   "name": "python",
   "nbconvert_exporter": "python",
   "pygments_lexer": "ipython3",
   "version": "3.9.7"
  }
 },
 "nbformat": 4,
 "nbformat_minor": 5
}
